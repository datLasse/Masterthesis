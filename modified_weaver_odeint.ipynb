{
 "cells": [
  {
   "cell_type": "code",
   "execution_count": 2,
   "metadata": {},
   "outputs": [],
   "source": [
    "from scipy.integrate import odeint\n",
    "import numpy as np\n",
    "import matplotlib.pyplot as plt\n",
    "import scipy as sp\n",
    "\n",
    "%matplotlib inline"
   ]
  },
  {
   "cell_type": "code",
   "execution_count": 3,
   "metadata": {},
   "outputs": [],
   "source": [
    "E_0 = 1 * 0.0000016021773 #erg: gcm^2/s^2\n",
    "m_H = 1.6*10**(-24) #g\n",
    "c = 3e11 #cm\n",
    "sigma_c = 2*10**(-24)\n",
    "n_0 = 1*10**(20)   #1/cm^3\n",
    "v_0 = (2*E_0/m_H)**(0.5)  #cm/s"
   ]
  },
  {
   "cell_type": "code",
   "execution_count": 10,
   "metadata": {},
   "outputs": [],
   "source": [
    "x = np.linspace(-1e6,3e6,100)"
   ]
  },
  {
   "cell_type": "code",
   "execution_count": 11,
   "metadata": {},
   "outputs": [],
   "source": [
    "def velocity(v,x):\n",
    "    dvdx = -sigma_c*n_0*v_0*((8*v_0*v-7*v**2-v_0**2)/(2*v*c))\n",
    "    return dvdx"
   ]
  },
  {
   "cell_type": "code",
   "execution_count": 13,
   "metadata": {},
   "outputs": [
    {
     "name": "stdout",
     "output_type": "stream",
     "text": [
      "[[1.41517533e+09]\n",
      " [1.41517532e+09]\n",
      " [1.41517530e+09]\n",
      " [1.41517527e+09]\n",
      " [1.41517525e+09]\n",
      " [1.41517522e+09]\n",
      " [1.41517519e+09]\n",
      " [1.41517515e+09]\n",
      " [1.41517511e+09]\n",
      " [1.41517507e+09]\n",
      " [1.41517502e+09]\n",
      " [1.41517496e+09]\n",
      " [1.41517490e+09]\n",
      " [1.41517483e+09]\n",
      " [1.41517474e+09]\n",
      " [1.41517465e+09]\n",
      " [1.41517455e+09]\n",
      " [1.41517444e+09]\n",
      " [1.41517431e+09]\n",
      " [1.41517417e+09]\n",
      " [1.41517401e+09]\n",
      " [1.41517383e+09]\n",
      " [1.41517362e+09]\n",
      " [1.41517340e+09]\n",
      " [1.41517315e+09]\n",
      " [1.41517286e+09]\n",
      " [1.41517255e+09]\n",
      " [1.41517219e+09]\n",
      " [1.41517179e+09]\n",
      " [1.41517133e+09]\n",
      " [1.41517083e+09]\n",
      " [1.41517026e+09]\n",
      " [1.41516963e+09]\n",
      " [1.41516892e+09]\n",
      " [1.41516811e+09]\n",
      " [1.41516721e+09]\n",
      " [1.41516621e+09]\n",
      " [1.41516508e+09]\n",
      " [1.41516382e+09]\n",
      " [1.41516240e+09]\n",
      " [1.41516084e+09]\n",
      " [1.41515902e+09]\n",
      " [1.41515702e+09]\n",
      " [1.41515478e+09]\n",
      " [1.41515228e+09]\n",
      " [1.41514947e+09]\n",
      " [1.41514632e+09]\n",
      " [1.41514278e+09]\n",
      " [1.41513882e+09]\n",
      " [1.41513438e+09]\n",
      " [1.41512939e+09]\n",
      " [1.41512380e+09]\n",
      " [1.41511754e+09]\n",
      " [1.41511051e+09]\n",
      " [1.41510264e+09]\n",
      " [1.41509381e+09]\n",
      " [1.41508391e+09]\n",
      " [1.41507281e+09]\n",
      " [1.41506037e+09]\n",
      " [1.41504641e+09]\n",
      " [1.41503077e+09]\n",
      " [1.41501323e+09]\n",
      " [1.41499357e+09]\n",
      " [1.41497152e+09]\n",
      " [1.41494681e+09]\n",
      " [1.41491910e+09]\n",
      " [1.41488803e+09]\n",
      " [1.41485319e+09]\n",
      " [1.41481415e+09]\n",
      " [1.41477038e+09]\n",
      " [1.41472131e+09]\n",
      " [1.41466629e+09]\n",
      " [1.41460460e+09]\n",
      " [1.41453543e+09]\n",
      " [1.41445789e+09]\n",
      " [1.41437096e+09]\n",
      " [1.41427350e+09]\n",
      " [1.41416422e+09]\n",
      " [1.41404172e+09]\n",
      " [1.41390438e+09]\n",
      " [1.41375041e+09]\n",
      " [1.41357780e+09]\n",
      " [1.41338428e+09]\n",
      " [1.41316732e+09]\n",
      " [1.41292408e+09]\n",
      " [1.41265140e+09]\n",
      " [1.41234569e+09]\n",
      " [1.41200298e+09]\n",
      " [1.41161878e+09]\n",
      " [1.41118808e+09]\n",
      " [1.41070524e+09]\n",
      " [1.41016397e+09]\n",
      " [1.40955721e+09]\n",
      " [1.40887703e+09]\n",
      " [1.40811460e+09]\n",
      " [1.40725995e+09]\n",
      " [1.40630197e+09]\n",
      " [1.40522818e+09]\n",
      " [1.40402462e+09]\n",
      " [1.40267566e+09]]\n"
     ]
    },
    {
     "data": {
      "text/plain": [
       "[<matplotlib.lines.Line2D at 0x166f5279508>]"
      ]
     },
     "execution_count": 13,
     "metadata": {},
     "output_type": "execute_result"
    },
    {
     "data": {
      "image/png": "[encoded data removed]",
      "text/plain": [
       "<Figure size 432x288 with 1 Axes>"
      ]
     },
     "metadata": {
      "needs_background": "light"
     },
     "output_type": "display_data"
    }
   ],
   "source": [
    "sol = odeint(velocity,0.9999999*v_0,x)\n",
    "\n",
    "print (sol)\n",
    "\n",
    "plt.plot(x, sol)"
   ]
  },
  {
   "cell_type": "code",
   "execution_count": null,
   "metadata": {
    "collapsed": true
   },
   "outputs": [],
   "source": []
  },
  {
   "cell_type": "code",
   "execution_count": null,
   "metadata": {
    "collapsed": true
   },
   "outputs": [],
   "source": []
  }
 ],
 "metadata": {
  "kernelspec": {
   "display_name": "Python 3",
   "language": "python",
   "name": "python3"
  },
  "language_info": {
   "codemirror_mode": {
    "name": "ipython",
    "version": 3
   },
   "file_extension": ".py",
   "mimetype": "text/x-python",
   "name": "python",
   "nbconvert_exporter": "python",
   "pygments_lexer": "ipython3",
   "version": "3.7.6"
  }
 },
 "nbformat": 4,
 "nbformat_minor": 2
}
